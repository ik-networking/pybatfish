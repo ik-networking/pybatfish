{
 "cells": [
  {
   "cell_type": "markdown",
   "metadata": {},
   "source": [
    "# Introduction to Differential Forwarding Analysis\n",
    "Intro sketch:\n",
    "* Network engineers frequently have to make changes to forwarding behavior: add new routes, opening or closing certain flows, moving flows around, etc.\n",
    "* These changes are hard to get right, and hard to validate.\n",
    "* This notebook will show how batfish can help validate changes to network forwarding.\n",
    "* Differential analyses answer questions about and/or validate changes between two snapshots of the network."
   ]
  },
  {
   "cell_type": "code",
   "execution_count": 1,
   "metadata": {},
   "outputs": [
    {
     "name": "stderr",
     "output_type": "stream",
     "text": [
      "/Users/matt/.pyenv/versions/3.6.4/lib/python3.6/importlib/_bootstrap.py:219: RuntimeWarning: numpy.dtype size changed, may indicate binary incompatibility. Expected 96, got 88\n",
      "  return f(*args, **kwds)\n",
      "/Users/matt/src/pybatfish/pybatfish/client/commands.py:50: UserWarning: Pybatfish public API is being updated, note that API names and parameters will soon change.\n",
      "  \"Pybatfish public API is being updated, note that API names and parameters will soon change.\")\n"
     ]
    }
   ],
   "source": [
    "# Import packages and load questions\n",
    "%run startup.py"
   ]
  },
  {
   "cell_type": "markdown",
   "metadata": {},
   "source": [
    "## Example 1\n",
    "Intro: describe the network and the change we want to make. The network topology is AS2 from the example network. The network is overprovisioned with failover redundancy for the core router. All traffic is routed through `as2core1`, but will automatically switch to use `as2core2` in case of a failure or during maintenance.\n",
    "\n",
    "In this example, we want to shift traffic to `as2core1` for maintenance.  To do that we'll cost out `as2core1`.\n",
    "\n",
    "### Step 1: Test current behavior\n",
    "Before beginning, let's check that the network is working as expected. First we load our snapshot into batfish."
   ]
  },
  {
   "cell_type": "code",
   "execution_count": 2,
   "metadata": {},
   "outputs": [
    {
     "data": {
      "text/plain": [
       "'base'"
      ]
     },
     "execution_count": 2,
     "metadata": {},
     "output_type": "execute_result"
    }
   ],
   "source": [
    "EX1_NETWORK_NAME = \"differential-example1\"\n",
    "EX1_BASE_NAME = \"base\"\n",
    "EX1_BASE_PATH = \"networks/differential-ex1-base\"\n",
    "\n",
    "bf_set_network(EX1_NETWORK_NAME)\n",
    "bf_init_snapshot(EX1_BASE_PATH, name=EX1_BASE_NAME, overwrite=True)"
   ]
  },
  {
   "cell_type": "markdown",
   "metadata": {},
   "source": [
    "In this step, we'll use the `reachability` question to validate that all traffic is currently being routed through `as2core1`. To do this, we'll tell batfish to search for flows that transit `as2core2`. The network is working as expected if no such flows are found.\n",
    "\n",
    "We run the `reachability` question two `PathConstraints` parameters: the parameter `transitLocations=\"as2core2\"` says to look for flows that transit `as2core2`. The parameter `startLocation=\".* - as2core2\"` means to search all flows that start *anywhere* in the network except `as2core2`. The parameter `actions=\"SUCCESS,FAILURE\"` means batfish should return any flows it finds, whether they are delivered successfully or dropped along the way (the default is to only return successful flows). "
   ]
  },
  {
   "cell_type": "code",
   "execution_count": 3,
   "metadata": {},
   "outputs": [
    {
     "data": {
      "text/html": [
       "<style  type=\"text/css\" >\n",
       "    #T_pybfstylerow0_col0 {\n",
       "            text-align:  left;\n",
       "            vertical-align:  top;\n",
       "        }    #T_pybfstylerow0_col1 {\n",
       "            text-align:  left;\n",
       "            vertical-align:  top;\n",
       "        }    #T_pybfstylerow0_col2 {\n",
       "            text-align:  left;\n",
       "            vertical-align:  top;\n",
       "        }    #T_pybfstylerow1_col0 {\n",
       "            text-align:  left;\n",
       "            vertical-align:  top;\n",
       "        }    #T_pybfstylerow1_col1 {\n",
       "            text-align:  left;\n",
       "            vertical-align:  top;\n",
       "        }    #T_pybfstylerow1_col2 {\n",
       "            text-align:  left;\n",
       "            vertical-align:  top;\n",
       "        }    #T_pybfstylerow2_col0 {\n",
       "            text-align:  left;\n",
       "            vertical-align:  top;\n",
       "        }    #T_pybfstylerow2_col1 {\n",
       "            text-align:  left;\n",
       "            vertical-align:  top;\n",
       "        }    #T_pybfstylerow2_col2 {\n",
       "            text-align:  left;\n",
       "            vertical-align:  top;\n",
       "        }    #T_pybfstylerow3_col0 {\n",
       "            text-align:  left;\n",
       "            vertical-align:  top;\n",
       "        }    #T_pybfstylerow3_col1 {\n",
       "            text-align:  left;\n",
       "            vertical-align:  top;\n",
       "        }    #T_pybfstylerow3_col2 {\n",
       "            text-align:  left;\n",
       "            vertical-align:  top;\n",
       "        }    #T_pybfstylerow4_col0 {\n",
       "            text-align:  left;\n",
       "            vertical-align:  top;\n",
       "        }    #T_pybfstylerow4_col1 {\n",
       "            text-align:  left;\n",
       "            vertical-align:  top;\n",
       "        }    #T_pybfstylerow4_col2 {\n",
       "            text-align:  left;\n",
       "            vertical-align:  top;\n",
       "        }    #T_pybfstylerow5_col0 {\n",
       "            text-align:  left;\n",
       "            vertical-align:  top;\n",
       "        }    #T_pybfstylerow5_col1 {\n",
       "            text-align:  left;\n",
       "            vertical-align:  top;\n",
       "        }    #T_pybfstylerow5_col2 {\n",
       "            text-align:  left;\n",
       "            vertical-align:  top;\n",
       "        }</style>  \n",
       "<table id=\"T_pybfstyle\" > \n",
       "<thead>    <tr> \n",
       "        <th class=\"blank level0\" ></th> \n",
       "        <th class=\"col_heading level0 col0\" >Flow</th> \n",
       "        <th class=\"col_heading level0 col1\" >Traces</th> \n",
       "        <th class=\"col_heading level0 col2\" >TraceCount</th> \n",
       "    </tr></thead> \n",
       "<tbody>    <tr> \n",
       "        <th id=\"T_pybfstylelevel0_row0\" class=\"row_heading level0 row0\" >0</th> \n",
       "        <td id=\"T_pybfstylerow0_col0\" class=\"data row0 col0\" >Src IP: 10.12.11.0<br>Src Port: 0<br>Dst IP: 2.128.0.101<br>Dst Port: 22<br>IP Protocol: TCP<br>Start Location: as2border1 interface=GigabitEthernet0/0</td> \n",
       "        <td id=\"T_pybfstylerow0_col1\" class=\"data row0 col1\" ><span style=\"color:#019612; text-weight:bold;\">ACCEPTED</span><br><strong>1</strong>. node: as2border1<br>&nbsp;&nbsp;RECEIVED(GigabitEthernet0/0: OUTSIDE_TO_INSIDE)<br>&nbsp;&nbsp;FORWARDED(Routes: ibgp [Network: 2.128.0.0/24, Next Hop IP:2.34.201.4])<br>&nbsp;&nbsp;TRANSMITTED(GigabitEthernet1/0)<br><strong>2</strong>. node: as2core1<br>&nbsp;&nbsp;RECEIVED(GigabitEthernet0/0)<br>&nbsp;&nbsp;FORWARDED(Routes: ibgp [Network: 2.128.0.0/24, Next Hop IP:2.34.201.4])<br>&nbsp;&nbsp;TRANSMITTED(GigabitEthernet3/0)<br><strong>3</strong>. node: as2dist2<br>&nbsp;&nbsp;RECEIVED(GigabitEthernet1/0)<br>&nbsp;&nbsp;FORWARDED(Routes: bgp [Network: 2.128.0.0/24, Next Hop IP:2.34.201.4])<br>&nbsp;&nbsp;TRANSMITTED(GigabitEthernet2/0)<br><strong>4</strong>. node: as2dept1<br>&nbsp;&nbsp;RECEIVED(GigabitEthernet1/0)<br>&nbsp;&nbsp;FORWARDED(Routes: connected [Network: 2.128.0.0/24, Next Hop IP:AUTO/NONE(-1l)])<br>&nbsp;&nbsp;TRANSMITTED(GigabitEthernet2/0)<br><strong>5</strong>. node: host1<br>&nbsp;&nbsp;RECEIVED(eth0: filter::INPUT)<br>&nbsp;&nbsp;ACCEPTED(InboundStep)</td> \n",
       "        <td id=\"T_pybfstylerow0_col2\" class=\"data row0 col2\" >1</td> \n",
       "    </tr>    <tr> \n",
       "        <th id=\"T_pybfstylelevel0_row1\" class=\"row_heading level0 row1\" >1</th> \n",
       "        <td id=\"T_pybfstylerow1_col0\" class=\"data row1 col0\" >Src IP: 2.12.11.0<br>Src Port: 0<br>Dst IP: 2.128.0.101<br>Dst Port: 22<br>IP Protocol: TCP<br>Start Location: as2border1 interface=GigabitEthernet1/0</td> \n",
       "        <td id=\"T_pybfstylerow1_col1\" class=\"data row1 col1\" ><span style=\"color:#019612; text-weight:bold;\">ACCEPTED</span><br><strong>1</strong>. node: as2border1<br>&nbsp;&nbsp;RECEIVED(GigabitEthernet1/0)<br>&nbsp;&nbsp;FORWARDED(Routes: ibgp [Network: 2.128.0.0/24, Next Hop IP:2.34.201.4])<br>&nbsp;&nbsp;TRANSMITTED(GigabitEthernet1/0)<br><strong>2</strong>. node: as2core1<br>&nbsp;&nbsp;RECEIVED(GigabitEthernet0/0)<br>&nbsp;&nbsp;FORWARDED(Routes: ibgp [Network: 2.128.0.0/24, Next Hop IP:2.34.201.4])<br>&nbsp;&nbsp;TRANSMITTED(GigabitEthernet3/0)<br><strong>3</strong>. node: as2dist2<br>&nbsp;&nbsp;RECEIVED(GigabitEthernet1/0)<br>&nbsp;&nbsp;FORWARDED(Routes: bgp [Network: 2.128.0.0/24, Next Hop IP:2.34.201.4])<br>&nbsp;&nbsp;TRANSMITTED(GigabitEthernet2/0)<br><strong>4</strong>. node: as2dept1<br>&nbsp;&nbsp;RECEIVED(GigabitEthernet1/0)<br>&nbsp;&nbsp;FORWARDED(Routes: connected [Network: 2.128.0.0/24, Next Hop IP:AUTO/NONE(-1l)])<br>&nbsp;&nbsp;TRANSMITTED(GigabitEthernet2/0)<br><strong>5</strong>. node: host1<br>&nbsp;&nbsp;RECEIVED(eth0: filter::INPUT)<br>&nbsp;&nbsp;ACCEPTED(InboundStep)</td> \n",
       "        <td id=\"T_pybfstylerow1_col2\" class=\"data row1 col2\" >1</td> \n",
       "    </tr>    <tr> \n",
       "        <th id=\"T_pybfstylelevel0_row2\" class=\"row_heading level0 row2\" >2</th> \n",
       "        <td id=\"T_pybfstylerow2_col0\" class=\"data row2 col0\" >Src IP: 2.12.12.0<br>Src Port: 0<br>Dst IP: 2.128.0.101<br>Dst Port: 22<br>IP Protocol: TCP<br>Start Location: as2border1 interface=GigabitEthernet2/0</td> \n",
       "        <td id=\"T_pybfstylerow2_col1\" class=\"data row2 col1\" ><span style=\"color:#019612; text-weight:bold;\">ACCEPTED</span><br><strong>1</strong>. node: as2border1<br>&nbsp;&nbsp;RECEIVED(GigabitEthernet2/0)<br>&nbsp;&nbsp;FORWARDED(Routes: ibgp [Network: 2.128.0.0/24, Next Hop IP:2.34.201.4])<br>&nbsp;&nbsp;TRANSMITTED(GigabitEthernet1/0)<br><strong>2</strong>. node: as2core1<br>&nbsp;&nbsp;RECEIVED(GigabitEthernet0/0)<br>&nbsp;&nbsp;FORWARDED(Routes: ibgp [Network: 2.128.0.0/24, Next Hop IP:2.34.201.4])<br>&nbsp;&nbsp;TRANSMITTED(GigabitEthernet3/0)<br><strong>3</strong>. node: as2dist2<br>&nbsp;&nbsp;RECEIVED(GigabitEthernet1/0)<br>&nbsp;&nbsp;FORWARDED(Routes: bgp [Network: 2.128.0.0/24, Next Hop IP:2.34.201.4])<br>&nbsp;&nbsp;TRANSMITTED(GigabitEthernet2/0)<br><strong>4</strong>. node: as2dept1<br>&nbsp;&nbsp;RECEIVED(GigabitEthernet1/0)<br>&nbsp;&nbsp;FORWARDED(Routes: connected [Network: 2.128.0.0/24, Next Hop IP:AUTO/NONE(-1l)])<br>&nbsp;&nbsp;TRANSMITTED(GigabitEthernet2/0)<br><strong>5</strong>. node: host1<br>&nbsp;&nbsp;RECEIVED(eth0: filter::INPUT)<br>&nbsp;&nbsp;ACCEPTED(InboundStep)</td> \n",
       "        <td id=\"T_pybfstylerow2_col2\" class=\"data row2 col2\" >1</td> \n",
       "    </tr>    <tr> \n",
       "        <th id=\"T_pybfstylelevel0_row3\" class=\"row_heading level0 row3\" >3</th> \n",
       "        <td id=\"T_pybfstylerow3_col0\" class=\"data row3 col0\" >Src IP: 10.23.21.0<br>Src Port: 0<br>Dst IP: 2.128.0.101<br>Dst Port: 22<br>IP Protocol: TCP<br>Start Location: as2border2 interface=GigabitEthernet0/0</td> \n",
       "        <td id=\"T_pybfstylerow3_col1\" class=\"data row3 col1\" ><span style=\"color:#019612; text-weight:bold;\">ACCEPTED</span><br><strong>1</strong>. node: as2border2<br>&nbsp;&nbsp;RECEIVED(GigabitEthernet0/0: OUTSIDE_TO_INSIDE)<br>&nbsp;&nbsp;FORWARDED(Routes: ibgp [Network: 2.128.0.0/24, Next Hop IP:2.34.201.4])<br>&nbsp;&nbsp;TRANSMITTED(GigabitEthernet2/0)<br><strong>2</strong>. node: as2core1<br>&nbsp;&nbsp;RECEIVED(GigabitEthernet1/0)<br>&nbsp;&nbsp;FORWARDED(Routes: ibgp [Network: 2.128.0.0/24, Next Hop IP:2.34.201.4])<br>&nbsp;&nbsp;TRANSMITTED(GigabitEthernet3/0)<br><strong>3</strong>. node: as2dist2<br>&nbsp;&nbsp;RECEIVED(GigabitEthernet1/0)<br>&nbsp;&nbsp;FORWARDED(Routes: bgp [Network: 2.128.0.0/24, Next Hop IP:2.34.201.4])<br>&nbsp;&nbsp;TRANSMITTED(GigabitEthernet2/0)<br><strong>4</strong>. node: as2dept1<br>&nbsp;&nbsp;RECEIVED(GigabitEthernet1/0)<br>&nbsp;&nbsp;FORWARDED(Routes: connected [Network: 2.128.0.0/24, Next Hop IP:AUTO/NONE(-1l)])<br>&nbsp;&nbsp;TRANSMITTED(GigabitEthernet2/0)<br><strong>5</strong>. node: host1<br>&nbsp;&nbsp;RECEIVED(eth0: filter::INPUT)<br>&nbsp;&nbsp;ACCEPTED(InboundStep)</td> \n",
       "        <td id=\"T_pybfstylerow3_col2\" class=\"data row3 col2\" >1</td> \n",
       "    </tr>    <tr> \n",
       "        <th id=\"T_pybfstylelevel0_row4\" class=\"row_heading level0 row4\" >4</th> \n",
       "        <td id=\"T_pybfstylerow4_col0\" class=\"data row4 col0\" >Src IP: 2.12.22.0<br>Src Port: 0<br>Dst IP: 2.128.0.101<br>Dst Port: 22<br>IP Protocol: TCP<br>Start Location: as2border2 interface=GigabitEthernet1/0</td> \n",
       "        <td id=\"T_pybfstylerow4_col1\" class=\"data row4 col1\" ><span style=\"color:#019612; text-weight:bold;\">ACCEPTED</span><br><strong>1</strong>. node: as2border2<br>&nbsp;&nbsp;RECEIVED(GigabitEthernet1/0)<br>&nbsp;&nbsp;FORWARDED(Routes: ibgp [Network: 2.128.0.0/24, Next Hop IP:2.34.201.4])<br>&nbsp;&nbsp;TRANSMITTED(GigabitEthernet2/0)<br><strong>2</strong>. node: as2core1<br>&nbsp;&nbsp;RECEIVED(GigabitEthernet1/0)<br>&nbsp;&nbsp;FORWARDED(Routes: ibgp [Network: 2.128.0.0/24, Next Hop IP:2.34.201.4])<br>&nbsp;&nbsp;TRANSMITTED(GigabitEthernet3/0)<br><strong>3</strong>. node: as2dist2<br>&nbsp;&nbsp;RECEIVED(GigabitEthernet1/0)<br>&nbsp;&nbsp;FORWARDED(Routes: bgp [Network: 2.128.0.0/24, Next Hop IP:2.34.201.4])<br>&nbsp;&nbsp;TRANSMITTED(GigabitEthernet2/0)<br><strong>4</strong>. node: as2dept1<br>&nbsp;&nbsp;RECEIVED(GigabitEthernet1/0)<br>&nbsp;&nbsp;FORWARDED(Routes: connected [Network: 2.128.0.0/24, Next Hop IP:AUTO/NONE(-1l)])<br>&nbsp;&nbsp;TRANSMITTED(GigabitEthernet2/0)<br><strong>5</strong>. node: host1<br>&nbsp;&nbsp;RECEIVED(eth0: filter::INPUT)<br>&nbsp;&nbsp;ACCEPTED(InboundStep)</td> \n",
       "        <td id=\"T_pybfstylerow4_col2\" class=\"data row4 col2\" >1</td> \n",
       "    </tr>    <tr> \n",
       "        <th id=\"T_pybfstylelevel0_row5\" class=\"row_heading level0 row5\" >5</th> \n",
       "        <td id=\"T_pybfstylerow5_col0\" class=\"data row5 col0\" >Src IP: 2.12.21.0<br>Src Port: 0<br>Dst IP: 2.128.0.101<br>Dst Port: 22<br>IP Protocol: TCP<br>Start Location: as2border2 interface=GigabitEthernet2/0</td> \n",
       "        <td id=\"T_pybfstylerow5_col1\" class=\"data row5 col1\" ><span style=\"color:#019612; text-weight:bold;\">ACCEPTED</span><br><strong>1</strong>. node: as2border2<br>&nbsp;&nbsp;RECEIVED(GigabitEthernet2/0)<br>&nbsp;&nbsp;FORWARDED(Routes: ibgp [Network: 2.128.0.0/24, Next Hop IP:2.34.201.4])<br>&nbsp;&nbsp;TRANSMITTED(GigabitEthernet2/0)<br><strong>2</strong>. node: as2core1<br>&nbsp;&nbsp;RECEIVED(GigabitEthernet1/0)<br>&nbsp;&nbsp;FORWARDED(Routes: ibgp [Network: 2.128.0.0/24, Next Hop IP:2.34.201.4])<br>&nbsp;&nbsp;TRANSMITTED(GigabitEthernet3/0)<br><strong>3</strong>. node: as2dist2<br>&nbsp;&nbsp;RECEIVED(GigabitEthernet1/0)<br>&nbsp;&nbsp;FORWARDED(Routes: bgp [Network: 2.128.0.0/24, Next Hop IP:2.34.201.4])<br>&nbsp;&nbsp;TRANSMITTED(GigabitEthernet2/0)<br><strong>4</strong>. node: as2dept1<br>&nbsp;&nbsp;RECEIVED(GigabitEthernet1/0)<br>&nbsp;&nbsp;FORWARDED(Routes: connected [Network: 2.128.0.0/24, Next Hop IP:AUTO/NONE(-1l)])<br>&nbsp;&nbsp;TRANSMITTED(GigabitEthernet2/0)<br><strong>5</strong>. node: host1<br>&nbsp;&nbsp;RECEIVED(eth0: filter::INPUT)<br>&nbsp;&nbsp;ACCEPTED(InboundStep)</td> \n",
       "        <td id=\"T_pybfstylerow5_col2\" class=\"data row5 col2\" >1</td> \n",
       "    </tr></tbody> \n",
       "</table> "
      ],
      "text/plain": [
       "                                                                               Flow  \\\n",
       "0  start=as2border1 interface=GigabitEthernet0/0 [10.12.11.0:0->2.128.0.101:22 TCP]   \n",
       "1  start=as2border1 interface=GigabitEthernet1/0 [2.12.11.0:0->2.128.0.101:22 TCP]    \n",
       "2  start=as2border1 interface=GigabitEthernet2/0 [2.12.12.0:0->2.128.0.101:22 TCP]    \n",
       "3  start=as2border2 interface=GigabitEthernet0/0 [10.23.21.0:0->2.128.0.101:22 TCP]   \n",
       "4  start=as2border2 interface=GigabitEthernet1/0 [2.12.22.0:0->2.128.0.101:22 TCP]    \n",
       "5  start=as2border2 interface=GigabitEthernet2/0 [2.12.21.0:0->2.128.0.101:22 TCP]    \n",
       "\n",
       "                                                                                                                                                                                                                                                                                                                                                                                                                                                                                                                                                                                                                                                          Traces  \\\n",
       "0  [((RECEIVED(GigabitEthernet0/0: OUTSIDE_TO_INSIDE), FORWARDED(Routes: ibgp [Network: 2.128.0.0/24, Next Hop IP:2.34.201.4]), TRANSMITTED(GigabitEthernet1/0)), (RECEIVED(GigabitEthernet0/0), FORWARDED(Routes: ibgp [Network: 2.128.0.0/24, Next Hop IP:2.34.201.4]), TRANSMITTED(GigabitEthernet3/0)), (RECEIVED(GigabitEthernet1/0), FORWARDED(Routes: bgp [Network: 2.128.0.0/24, Next Hop IP:2.34.201.4]), TRANSMITTED(GigabitEthernet2/0)), (RECEIVED(GigabitEthernet1/0), FORWARDED(Routes: connected [Network: 2.128.0.0/24, Next Hop IP:AUTO/NONE(-1l)]), TRANSMITTED(GigabitEthernet2/0)), (RECEIVED(eth0: filter::INPUT), ACCEPTED(InboundStep)))]   \n",
       "1  [((RECEIVED(GigabitEthernet1/0), FORWARDED(Routes: ibgp [Network: 2.128.0.0/24, Next Hop IP:2.34.201.4]), TRANSMITTED(GigabitEthernet1/0)), (RECEIVED(GigabitEthernet0/0), FORWARDED(Routes: ibgp [Network: 2.128.0.0/24, Next Hop IP:2.34.201.4]), TRANSMITTED(GigabitEthernet3/0)), (RECEIVED(GigabitEthernet1/0), FORWARDED(Routes: bgp [Network: 2.128.0.0/24, Next Hop IP:2.34.201.4]), TRANSMITTED(GigabitEthernet2/0)), (RECEIVED(GigabitEthernet1/0), FORWARDED(Routes: connected [Network: 2.128.0.0/24, Next Hop IP:AUTO/NONE(-1l)]), TRANSMITTED(GigabitEthernet2/0)), (RECEIVED(eth0: filter::INPUT), ACCEPTED(InboundStep)))]                      \n",
       "2  [((RECEIVED(GigabitEthernet2/0), FORWARDED(Routes: ibgp [Network: 2.128.0.0/24, Next Hop IP:2.34.201.4]), TRANSMITTED(GigabitEthernet1/0)), (RECEIVED(GigabitEthernet0/0), FORWARDED(Routes: ibgp [Network: 2.128.0.0/24, Next Hop IP:2.34.201.4]), TRANSMITTED(GigabitEthernet3/0)), (RECEIVED(GigabitEthernet1/0), FORWARDED(Routes: bgp [Network: 2.128.0.0/24, Next Hop IP:2.34.201.4]), TRANSMITTED(GigabitEthernet2/0)), (RECEIVED(GigabitEthernet1/0), FORWARDED(Routes: connected [Network: 2.128.0.0/24, Next Hop IP:AUTO/NONE(-1l)]), TRANSMITTED(GigabitEthernet2/0)), (RECEIVED(eth0: filter::INPUT), ACCEPTED(InboundStep)))]                      \n",
       "3  [((RECEIVED(GigabitEthernet0/0: OUTSIDE_TO_INSIDE), FORWARDED(Routes: ibgp [Network: 2.128.0.0/24, Next Hop IP:2.34.201.4]), TRANSMITTED(GigabitEthernet2/0)), (RECEIVED(GigabitEthernet1/0), FORWARDED(Routes: ibgp [Network: 2.128.0.0/24, Next Hop IP:2.34.201.4]), TRANSMITTED(GigabitEthernet3/0)), (RECEIVED(GigabitEthernet1/0), FORWARDED(Routes: bgp [Network: 2.128.0.0/24, Next Hop IP:2.34.201.4]), TRANSMITTED(GigabitEthernet2/0)), (RECEIVED(GigabitEthernet1/0), FORWARDED(Routes: connected [Network: 2.128.0.0/24, Next Hop IP:AUTO/NONE(-1l)]), TRANSMITTED(GigabitEthernet2/0)), (RECEIVED(eth0: filter::INPUT), ACCEPTED(InboundStep)))]   \n",
       "4  [((RECEIVED(GigabitEthernet1/0), FORWARDED(Routes: ibgp [Network: 2.128.0.0/24, Next Hop IP:2.34.201.4]), TRANSMITTED(GigabitEthernet2/0)), (RECEIVED(GigabitEthernet1/0), FORWARDED(Routes: ibgp [Network: 2.128.0.0/24, Next Hop IP:2.34.201.4]), TRANSMITTED(GigabitEthernet3/0)), (RECEIVED(GigabitEthernet1/0), FORWARDED(Routes: bgp [Network: 2.128.0.0/24, Next Hop IP:2.34.201.4]), TRANSMITTED(GigabitEthernet2/0)), (RECEIVED(GigabitEthernet1/0), FORWARDED(Routes: connected [Network: 2.128.0.0/24, Next Hop IP:AUTO/NONE(-1l)]), TRANSMITTED(GigabitEthernet2/0)), (RECEIVED(eth0: filter::INPUT), ACCEPTED(InboundStep)))]                      \n",
       "5  [((RECEIVED(GigabitEthernet2/0), FORWARDED(Routes: ibgp [Network: 2.128.0.0/24, Next Hop IP:2.34.201.4]), TRANSMITTED(GigabitEthernet2/0)), (RECEIVED(GigabitEthernet1/0), FORWARDED(Routes: ibgp [Network: 2.128.0.0/24, Next Hop IP:2.34.201.4]), TRANSMITTED(GigabitEthernet3/0)), (RECEIVED(GigabitEthernet1/0), FORWARDED(Routes: bgp [Network: 2.128.0.0/24, Next Hop IP:2.34.201.4]), TRANSMITTED(GigabitEthernet2/0)), (RECEIVED(GigabitEthernet1/0), FORWARDED(Routes: connected [Network: 2.128.0.0/24, Next Hop IP:AUTO/NONE(-1l)]), TRANSMITTED(GigabitEthernet2/0)), (RECEIVED(eth0: filter::INPUT), ACCEPTED(InboundStep)))]                      \n",
       "\n",
       "   TraceCount  \n",
       "0  1           \n",
       "1  1           \n",
       "2  1           \n",
       "3  1           \n",
       "4  1           \n",
       "5  1           "
      ]
     },
     "metadata": {},
     "output_type": "display_data"
    }
   ],
   "source": [
    "# Some external traffic to hosts is routed through as2core1\n",
    "answer = bfq.reachability(\n",
    "    pathConstraints=PathConstraints(startLocation=\"enter(as2border.*)\", transitLocations=\"as2core1\"),\n",
    "    headers = HeaderConstraints(dstIps=\"ofLocation(host.*)\"),\n",
    ").answer(snapshot=EX1_BASE_NAME)\n",
    "display_html(answer.frame())"
   ]
  },
  {
   "cell_type": "code",
   "execution_count": 5,
   "metadata": {},
   "outputs": [
    {
     "data": {
      "text/html": [
       "<div>\n",
       "<style scoped>\n",
       "    .dataframe tbody tr th:only-of-type {\n",
       "        vertical-align: middle;\n",
       "    }\n",
       "\n",
       "    .dataframe tbody tr th {\n",
       "        vertical-align: top;\n",
       "    }\n",
       "\n",
       "    .dataframe thead th {\n",
       "        text-align: right;\n",
       "    }\n",
       "</style>\n",
       "<table border=\"1\" class=\"dataframe\">\n",
       "  <thead>\n",
       "    <tr style=\"text-align: right;\">\n",
       "      <th></th>\n",
       "      <th>Flow</th>\n",
       "      <th>Traces</th>\n",
       "      <th>TraceCount</th>\n",
       "    </tr>\n",
       "  </thead>\n",
       "  <tbody>\n",
       "  </tbody>\n",
       "</table>\n",
       "</div>"
      ],
      "text/plain": [
       "Empty DataFrame\n",
       "Columns: [Flow, Traces, TraceCount]\n",
       "Index: []"
      ]
     },
     "metadata": {},
     "output_type": "display_data"
    }
   ],
   "source": [
    "# No traffic to the hosts is routed through as2core2\n",
    "answer = bfq.reachability(\n",
    "    pathConstraints=PathConstraints(startLocation=\"enter(as2border.*)\", transitLocations=\"as2core2\"),\n",
    "    headers = HeaderConstraints(dstIps=\"ofLocation(host.*)\")\n",
    ").answer(snapshot=EX1_BASE_NAME)\n",
    "display_html(answer.frame())"
   ]
  },
  {
   "cell_type": "markdown",
   "metadata": {},
   "source": [
    "Great! It's always comforting to validate that the network is running as expected and desired. "
   ]
  },
  {
   "cell_type": "markdown",
   "metadata": {},
   "source": [
    "### Step 2: Author the change\n",
    "Next, we'll cost out `as2core1`, causing traffic to route through `as2core2`. We'll implement this change offline in a new snapshot, and validate that the change won't affect end-to-end reachability. Below you can see the configuration changes we're going to make: adjust some ospf costs and **TODO do something that I guess has to do with BGP?**\n",
    "\n",
    "```\n",
    "$ diff -r networks/differential-ex1-base networks/differential-ex1-change\n",
    "diff -r networks/differential-ex1-base/configs/as2core1.cfg networks/differential-ex1-change/configs/as2core1.cfg\n",
    "67a68\n",
    ">  ip ospf cost 500\n",
    "71a73\n",
    ">  ip ospf cost 500\n",
    "76a79\n",
    ">  ip ospf cost 500\n",
    "81a85\n",
    ">  ip ospf cost 500\n",
    "111a116\n",
    ">   neighbor as2 shutdown\n",
    "```\n",
    "### Step 3: Validate the change has the intended effect\n",
    "Before we deploy the change to the network, let's verify that it is correct. The requirements for the change are:\n",
    "1. No traffic is routed through `as2core1`.\n",
    "1. End-to-end network behavior is unaffected.\n",
    "\n",
    "Each of these requirements is essential. **TODO** we can say more to emphasize why each requirement is essential."
   ]
  },
  {
   "cell_type": "code",
   "execution_count": 29,
   "metadata": {},
   "outputs": [
    {
     "data": {
      "text/plain": [
       "'change'"
      ]
     },
     "execution_count": 29,
     "metadata": {},
     "output_type": "execute_result"
    }
   ],
   "source": [
    "EX1_CHANGE_NAME = \"change\"\n",
    "EX1_CHANGE_PATH = \"networks/differential-ex1-change\"\n",
    "\n",
    "bf_init_snapshot(EX1_CHANGE_PATH, name=EX1_CHANGE_NAME, overwrite=True)"
   ]
  },
  {
   "cell_type": "markdown",
   "metadata": {},
   "source": [
    "#### Requirement 1: No traffic is routed through `as2core1`.\n",
    "We repeat our previous query, this time replacing `as2core2` with `as2core1`, since we want to ensure that now `as2core1` is never transited."
   ]
  },
  {
   "cell_type": "code",
   "execution_count": 30,
   "metadata": {},
   "outputs": [
    {
     "data": {
      "text/html": [
       "<div>\n",
       "<style scoped>\n",
       "    .dataframe tbody tr th:only-of-type {\n",
       "        vertical-align: middle;\n",
       "    }\n",
       "\n",
       "    .dataframe tbody tr th {\n",
       "        vertical-align: top;\n",
       "    }\n",
       "\n",
       "    .dataframe thead th {\n",
       "        text-align: right;\n",
       "    }\n",
       "</style>\n",
       "<table border=\"1\" class=\"dataframe\">\n",
       "  <thead>\n",
       "    <tr style=\"text-align: right;\">\n",
       "      <th></th>\n",
       "      <th>Flow</th>\n",
       "      <th>Traces</th>\n",
       "      <th>TraceCount</th>\n",
       "    </tr>\n",
       "  </thead>\n",
       "  <tbody>\n",
       "  </tbody>\n",
       "</table>\n",
       "</div>"
      ],
      "text/plain": [
       "Empty DataFrame\n",
       "Columns: [Flow, Traces, TraceCount]\n",
       "Index: []"
      ]
     },
     "metadata": {},
     "output_type": "display_data"
    }
   ],
   "source": [
    "# No traffic is routed through as2core1\n",
    "answer = bfq.reachability(\n",
    "    pathConstraints = PathConstraints(startLocation=\"enter(as2border.*)\", transitLocations=\"as2core1\"),\n",
    "    headers = HeaderConstraints(dstIps=\"ofLocation(host.*)\"),\n",
    "    actions = \"SUCCESS,FAILURE\"\n",
    ").answer(snapshot=EX1_CHANGE_NAME)\n",
    "display_html(answer.frame())"
   ]
  },
  {
   "cell_type": "code",
   "execution_count": 31,
   "metadata": {},
   "outputs": [
    {
     "data": {
      "text/html": [
       "<div>\n",
       "<style scoped>\n",
       "    .dataframe tbody tr th:only-of-type {\n",
       "        vertical-align: middle;\n",
       "    }\n",
       "\n",
       "    .dataframe tbody tr th {\n",
       "        vertical-align: top;\n",
       "    }\n",
       "\n",
       "    .dataframe thead th {\n",
       "        text-align: right;\n",
       "    }\n",
       "</style>\n",
       "<table border=\"1\" class=\"dataframe\">\n",
       "  <thead>\n",
       "    <tr style=\"text-align: right;\">\n",
       "      <th></th>\n",
       "      <th>Flow</th>\n",
       "      <th>Traces</th>\n",
       "      <th>TraceCount</th>\n",
       "    </tr>\n",
       "  </thead>\n",
       "  <tbody>\n",
       "  </tbody>\n",
       "</table>\n",
       "</div>"
      ],
      "text/plain": [
       "Empty DataFrame\n",
       "Columns: [Flow, Traces, TraceCount]\n",
       "Index: []"
      ]
     },
     "metadata": {},
     "output_type": "display_data"
    }
   ],
   "source": [
    "# No traffic is routed through as2core1\n",
    "answer = bfq.reachability(\n",
    "    pathConstraints = PathConstraints(startLocation=\".* - as2core.*\", transitLocations=\"as2core1\"),\n",
    "    headers = HeaderConstraints(dstIps=\"ofLocation(.* - as2core.*)\", srcIps=\"0.0.0.0/0\"),\n",
    "    actions = \"SUCCESS,FAILURE\"\n",
    ").answer(snapshot=EX1_CHANGE_NAME)\n",
    "display_html(answer.frame())"
   ]
  },
  {
   "cell_type": "markdown",
   "metadata": {},
   "source": [
    "Great! We've verified that our change does successfully cost out `as2core1`. \n",
    "\n",
    "#### Requirement 2: End-to-end network behavior is unchanged.\n",
    "Before deploying the change to the network, let's make sure that the change does not affect end-to-end network behavior. We can do this by comparing our two snapshots using the `differentialReachability` question. This question will return flows that are successfully delivered in either snapshot but not the other.\n",
    "\n",
    "In this example, we search for flows that are successfully delivered before we costed-out `as2core1` but not after. To exclude flows that start or end at `as2core1` itself, we use the parameter `startLocation=\".* - as2core1\"` that says to find flows that *do not* start at `as2core1` and the parameter `dstIps=\"ofLocation(.* - as2core1)\"` that says to find flows addressed to *anywhere other than* `as2core1`."
   ]
  },
  {
   "cell_type": "code",
   "execution_count": 33,
   "metadata": {},
   "outputs": [
    {
     "data": {
      "text/html": [
       "<style  type=\"text/css\" >\n",
       "    #T_pybfstylerow0_col0 {\n",
       "            text-align:  left;\n",
       "            vertical-align:  top;\n",
       "        }    #T_pybfstylerow0_col1 {\n",
       "            text-align:  left;\n",
       "            vertical-align:  top;\n",
       "        }    #T_pybfstylerow0_col2 {\n",
       "            text-align:  left;\n",
       "            vertical-align:  top;\n",
       "        }    #T_pybfstylerow0_col3 {\n",
       "            text-align:  left;\n",
       "            vertical-align:  top;\n",
       "        }    #T_pybfstylerow0_col4 {\n",
       "            text-align:  left;\n",
       "            vertical-align:  top;\n",
       "        }    #T_pybfstylerow1_col0 {\n",
       "            text-align:  left;\n",
       "            vertical-align:  top;\n",
       "        }    #T_pybfstylerow1_col1 {\n",
       "            text-align:  left;\n",
       "            vertical-align:  top;\n",
       "        }    #T_pybfstylerow1_col2 {\n",
       "            text-align:  left;\n",
       "            vertical-align:  top;\n",
       "        }    #T_pybfstylerow1_col3 {\n",
       "            text-align:  left;\n",
       "            vertical-align:  top;\n",
       "        }    #T_pybfstylerow1_col4 {\n",
       "            text-align:  left;\n",
       "            vertical-align:  top;\n",
       "        }    #T_pybfstylerow2_col0 {\n",
       "            text-align:  left;\n",
       "            vertical-align:  top;\n",
       "        }    #T_pybfstylerow2_col1 {\n",
       "            text-align:  left;\n",
       "            vertical-align:  top;\n",
       "        }    #T_pybfstylerow2_col2 {\n",
       "            text-align:  left;\n",
       "            vertical-align:  top;\n",
       "        }    #T_pybfstylerow2_col3 {\n",
       "            text-align:  left;\n",
       "            vertical-align:  top;\n",
       "        }    #T_pybfstylerow2_col4 {\n",
       "            text-align:  left;\n",
       "            vertical-align:  top;\n",
       "        }    #T_pybfstylerow3_col0 {\n",
       "            text-align:  left;\n",
       "            vertical-align:  top;\n",
       "        }    #T_pybfstylerow3_col1 {\n",
       "            text-align:  left;\n",
       "            vertical-align:  top;\n",
       "        }    #T_pybfstylerow3_col2 {\n",
       "            text-align:  left;\n",
       "            vertical-align:  top;\n",
       "        }    #T_pybfstylerow3_col3 {\n",
       "            text-align:  left;\n",
       "            vertical-align:  top;\n",
       "        }    #T_pybfstylerow3_col4 {\n",
       "            text-align:  left;\n",
       "            vertical-align:  top;\n",
       "        }    #T_pybfstylerow4_col0 {\n",
       "            text-align:  left;\n",
       "            vertical-align:  top;\n",
       "        }    #T_pybfstylerow4_col1 {\n",
       "            text-align:  left;\n",
       "            vertical-align:  top;\n",
       "        }    #T_pybfstylerow4_col2 {\n",
       "            text-align:  left;\n",
       "            vertical-align:  top;\n",
       "        }    #T_pybfstylerow4_col3 {\n",
       "            text-align:  left;\n",
       "            vertical-align:  top;\n",
       "        }    #T_pybfstylerow4_col4 {\n",
       "            text-align:  left;\n",
       "            vertical-align:  top;\n",
       "        }    #T_pybfstylerow5_col0 {\n",
       "            text-align:  left;\n",
       "            vertical-align:  top;\n",
       "        }    #T_pybfstylerow5_col1 {\n",
       "            text-align:  left;\n",
       "            vertical-align:  top;\n",
       "        }    #T_pybfstylerow5_col2 {\n",
       "            text-align:  left;\n",
       "            vertical-align:  top;\n",
       "        }    #T_pybfstylerow5_col3 {\n",
       "            text-align:  left;\n",
       "            vertical-align:  top;\n",
       "        }    #T_pybfstylerow5_col4 {\n",
       "            text-align:  left;\n",
       "            vertical-align:  top;\n",
       "        }</style>  \n",
       "<table id=\"T_pybfstyle\" > \n",
       "<thead>    <tr> \n",
       "        <th class=\"blank level0\" ></th> \n",
       "        <th class=\"col_heading level0 col0\" >Flow</th> \n",
       "        <th class=\"col_heading level0 col1\" >Base_Traces</th> \n",
       "        <th class=\"col_heading level0 col2\" >Base_TraceCount</th> \n",
       "        <th class=\"col_heading level0 col3\" >Delta_Traces</th> \n",
       "        <th class=\"col_heading level0 col4\" >Delta_TraceCount</th> \n",
       "    </tr></thead> \n",
       "<tbody>    <tr> \n",
       "        <th id=\"T_pybfstylelevel0_row0\" class=\"row_heading level0 row0\" >0</th> \n",
       "        <td id=\"T_pybfstylerow0_col0\" class=\"data row0 col0\" >Src IP: 10.12.11.0<br>Src Port: 0<br>Dst IP: 2.128.0.101<br>Dst Port: 22<br>IP Protocol: TCP<br>Start Location: as2border1 interface=GigabitEthernet0/0</td> \n",
       "        <td id=\"T_pybfstylerow0_col1\" class=\"data row0 col1\" ><span style=\"color:#7c020e; text-weight:bold;\">NULL_ROUTED</span><br><strong>1</strong>. node: as2border1<br>&nbsp;&nbsp;RECEIVED(GigabitEthernet0/0: OUTSIDE_TO_INSIDE)<br>&nbsp;&nbsp;FORWARDED(Routes: ibgp [Network: 2.128.0.0/24, Next Hop IP:2.34.201.4])<br>&nbsp;&nbsp;TRANSMITTED(GigabitEthernet2/0)<br><strong>2</strong>. node: as2core2<br>&nbsp;&nbsp;RECEIVED(GigabitEthernet1/0)<br>&nbsp;&nbsp;FORWARDED(Routes: static [Network: 2.128.0.0/24, Next Hop IP:AUTO/NONE(-1l)])<br>&nbsp;&nbsp;NULL_ROUTED(null_interface)</td> \n",
       "        <td id=\"T_pybfstylerow0_col2\" class=\"data row0 col2\" >1</td> \n",
       "        <td id=\"T_pybfstylerow0_col3\" class=\"data row0 col3\" ><span style=\"color:#019612; text-weight:bold;\">ACCEPTED</span><br><strong>1</strong>. node: as2border1<br>&nbsp;&nbsp;RECEIVED(GigabitEthernet0/0: OUTSIDE_TO_INSIDE)<br>&nbsp;&nbsp;FORWARDED(Routes: ibgp [Network: 2.128.0.0/24, Next Hop IP:2.34.201.4])<br>&nbsp;&nbsp;TRANSMITTED(GigabitEthernet1/0)<br><strong>2</strong>. node: as2core1<br>&nbsp;&nbsp;RECEIVED(GigabitEthernet0/0)<br>&nbsp;&nbsp;FORWARDED(Routes: ibgp [Network: 2.128.0.0/24, Next Hop IP:2.34.201.4])<br>&nbsp;&nbsp;TRANSMITTED(GigabitEthernet3/0)<br><strong>3</strong>. node: as2dist2<br>&nbsp;&nbsp;RECEIVED(GigabitEthernet1/0)<br>&nbsp;&nbsp;FORWARDED(Routes: bgp [Network: 2.128.0.0/24, Next Hop IP:2.34.201.4])<br>&nbsp;&nbsp;TRANSMITTED(GigabitEthernet2/0)<br><strong>4</strong>. node: as2dept1<br>&nbsp;&nbsp;RECEIVED(GigabitEthernet1/0)<br>&nbsp;&nbsp;FORWARDED(Routes: connected [Network: 2.128.0.0/24, Next Hop IP:AUTO/NONE(-1l)])<br>&nbsp;&nbsp;TRANSMITTED(GigabitEthernet2/0)<br><strong>5</strong>. node: host1<br>&nbsp;&nbsp;RECEIVED(eth0: filter::INPUT)<br>&nbsp;&nbsp;ACCEPTED(InboundStep)</td> \n",
       "        <td id=\"T_pybfstylerow0_col4\" class=\"data row0 col4\" >1</td> \n",
       "    </tr>    <tr> \n",
       "        <th id=\"T_pybfstylelevel0_row1\" class=\"row_heading level0 row1\" >1</th> \n",
       "        <td id=\"T_pybfstylerow1_col0\" class=\"data row1 col0\" >Src IP: 2.12.11.0<br>Src Port: 0<br>Dst IP: 2.128.0.101<br>Dst Port: 22<br>IP Protocol: TCP<br>Start Location: as2border1 interface=GigabitEthernet1/0</td> \n",
       "        <td id=\"T_pybfstylerow1_col1\" class=\"data row1 col1\" ><span style=\"color:#7c020e; text-weight:bold;\">NULL_ROUTED</span><br><strong>1</strong>. node: as2border1<br>&nbsp;&nbsp;RECEIVED(GigabitEthernet1/0)<br>&nbsp;&nbsp;FORWARDED(Routes: ibgp [Network: 2.128.0.0/24, Next Hop IP:2.34.201.4])<br>&nbsp;&nbsp;TRANSMITTED(GigabitEthernet2/0)<br><strong>2</strong>. node: as2core2<br>&nbsp;&nbsp;RECEIVED(GigabitEthernet1/0)<br>&nbsp;&nbsp;FORWARDED(Routes: static [Network: 2.128.0.0/24, Next Hop IP:AUTO/NONE(-1l)])<br>&nbsp;&nbsp;NULL_ROUTED(null_interface)</td> \n",
       "        <td id=\"T_pybfstylerow1_col2\" class=\"data row1 col2\" >1</td> \n",
       "        <td id=\"T_pybfstylerow1_col3\" class=\"data row1 col3\" ><span style=\"color:#019612; text-weight:bold;\">ACCEPTED</span><br><strong>1</strong>. node: as2border1<br>&nbsp;&nbsp;RECEIVED(GigabitEthernet1/0)<br>&nbsp;&nbsp;FORWARDED(Routes: ibgp [Network: 2.128.0.0/24, Next Hop IP:2.34.201.4])<br>&nbsp;&nbsp;TRANSMITTED(GigabitEthernet1/0)<br><strong>2</strong>. node: as2core1<br>&nbsp;&nbsp;RECEIVED(GigabitEthernet0/0)<br>&nbsp;&nbsp;FORWARDED(Routes: ibgp [Network: 2.128.0.0/24, Next Hop IP:2.34.201.4])<br>&nbsp;&nbsp;TRANSMITTED(GigabitEthernet3/0)<br><strong>3</strong>. node: as2dist2<br>&nbsp;&nbsp;RECEIVED(GigabitEthernet1/0)<br>&nbsp;&nbsp;FORWARDED(Routes: bgp [Network: 2.128.0.0/24, Next Hop IP:2.34.201.4])<br>&nbsp;&nbsp;TRANSMITTED(GigabitEthernet2/0)<br><strong>4</strong>. node: as2dept1<br>&nbsp;&nbsp;RECEIVED(GigabitEthernet1/0)<br>&nbsp;&nbsp;FORWARDED(Routes: connected [Network: 2.128.0.0/24, Next Hop IP:AUTO/NONE(-1l)])<br>&nbsp;&nbsp;TRANSMITTED(GigabitEthernet2/0)<br><strong>5</strong>. node: host1<br>&nbsp;&nbsp;RECEIVED(eth0: filter::INPUT)<br>&nbsp;&nbsp;ACCEPTED(InboundStep)</td> \n",
       "        <td id=\"T_pybfstylerow1_col4\" class=\"data row1 col4\" >1</td> \n",
       "    </tr>    <tr> \n",
       "        <th id=\"T_pybfstylelevel0_row2\" class=\"row_heading level0 row2\" >2</th> \n",
       "        <td id=\"T_pybfstylerow2_col0\" class=\"data row2 col0\" >Src IP: 2.12.12.0<br>Src Port: 0<br>Dst IP: 2.128.0.101<br>Dst Port: 22<br>IP Protocol: TCP<br>Start Location: as2border1 interface=GigabitEthernet2/0</td> \n",
       "        <td id=\"T_pybfstylerow2_col1\" class=\"data row2 col1\" ><span style=\"color:#7c020e; text-weight:bold;\">NULL_ROUTED</span><br><strong>1</strong>. node: as2border1<br>&nbsp;&nbsp;RECEIVED(GigabitEthernet2/0)<br>&nbsp;&nbsp;FORWARDED(Routes: ibgp [Network: 2.128.0.0/24, Next Hop IP:2.34.201.4])<br>&nbsp;&nbsp;TRANSMITTED(GigabitEthernet2/0)<br><strong>2</strong>. node: as2core2<br>&nbsp;&nbsp;RECEIVED(GigabitEthernet1/0)<br>&nbsp;&nbsp;FORWARDED(Routes: static [Network: 2.128.0.0/24, Next Hop IP:AUTO/NONE(-1l)])<br>&nbsp;&nbsp;NULL_ROUTED(null_interface)</td> \n",
       "        <td id=\"T_pybfstylerow2_col2\" class=\"data row2 col2\" >1</td> \n",
       "        <td id=\"T_pybfstylerow2_col3\" class=\"data row2 col3\" ><span style=\"color:#019612; text-weight:bold;\">ACCEPTED</span><br><strong>1</strong>. node: as2border1<br>&nbsp;&nbsp;RECEIVED(GigabitEthernet2/0)<br>&nbsp;&nbsp;FORWARDED(Routes: ibgp [Network: 2.128.0.0/24, Next Hop IP:2.34.201.4])<br>&nbsp;&nbsp;TRANSMITTED(GigabitEthernet1/0)<br><strong>2</strong>. node: as2core1<br>&nbsp;&nbsp;RECEIVED(GigabitEthernet0/0)<br>&nbsp;&nbsp;FORWARDED(Routes: ibgp [Network: 2.128.0.0/24, Next Hop IP:2.34.201.4])<br>&nbsp;&nbsp;TRANSMITTED(GigabitEthernet3/0)<br><strong>3</strong>. node: as2dist2<br>&nbsp;&nbsp;RECEIVED(GigabitEthernet1/0)<br>&nbsp;&nbsp;FORWARDED(Routes: bgp [Network: 2.128.0.0/24, Next Hop IP:2.34.201.4])<br>&nbsp;&nbsp;TRANSMITTED(GigabitEthernet2/0)<br><strong>4</strong>. node: as2dept1<br>&nbsp;&nbsp;RECEIVED(GigabitEthernet1/0)<br>&nbsp;&nbsp;FORWARDED(Routes: connected [Network: 2.128.0.0/24, Next Hop IP:AUTO/NONE(-1l)])<br>&nbsp;&nbsp;TRANSMITTED(GigabitEthernet2/0)<br><strong>5</strong>. node: host1<br>&nbsp;&nbsp;RECEIVED(eth0: filter::INPUT)<br>&nbsp;&nbsp;ACCEPTED(InboundStep)</td> \n",
       "        <td id=\"T_pybfstylerow2_col4\" class=\"data row2 col4\" >1</td> \n",
       "    </tr>    <tr> \n",
       "        <th id=\"T_pybfstylelevel0_row3\" class=\"row_heading level0 row3\" >3</th> \n",
       "        <td id=\"T_pybfstylerow3_col0\" class=\"data row3 col0\" >Src IP: 10.23.21.0<br>Src Port: 0<br>Dst IP: 2.128.0.101<br>Dst Port: 22<br>IP Protocol: TCP<br>Start Location: as2border2 interface=GigabitEthernet0/0</td> \n",
       "        <td id=\"T_pybfstylerow3_col1\" class=\"data row3 col1\" ><span style=\"color:#7c020e; text-weight:bold;\">NULL_ROUTED</span><br><strong>1</strong>. node: as2border2<br>&nbsp;&nbsp;RECEIVED(GigabitEthernet0/0: OUTSIDE_TO_INSIDE)<br>&nbsp;&nbsp;FORWARDED(Routes: ibgp [Network: 2.128.0.0/24, Next Hop IP:2.34.201.4])<br>&nbsp;&nbsp;TRANSMITTED(GigabitEthernet1/0)<br><strong>2</strong>. node: as2core2<br>&nbsp;&nbsp;RECEIVED(GigabitEthernet0/0)<br>&nbsp;&nbsp;FORWARDED(Routes: static [Network: 2.128.0.0/24, Next Hop IP:AUTO/NONE(-1l)])<br>&nbsp;&nbsp;NULL_ROUTED(null_interface)</td> \n",
       "        <td id=\"T_pybfstylerow3_col2\" class=\"data row3 col2\" >1</td> \n",
       "        <td id=\"T_pybfstylerow3_col3\" class=\"data row3 col3\" ><span style=\"color:#019612; text-weight:bold;\">ACCEPTED</span><br><strong>1</strong>. node: as2border2<br>&nbsp;&nbsp;RECEIVED(GigabitEthernet0/0: OUTSIDE_TO_INSIDE)<br>&nbsp;&nbsp;FORWARDED(Routes: ibgp [Network: 2.128.0.0/24, Next Hop IP:2.34.201.4])<br>&nbsp;&nbsp;TRANSMITTED(GigabitEthernet2/0)<br><strong>2</strong>. node: as2core1<br>&nbsp;&nbsp;RECEIVED(GigabitEthernet1/0)<br>&nbsp;&nbsp;FORWARDED(Routes: ibgp [Network: 2.128.0.0/24, Next Hop IP:2.34.201.4])<br>&nbsp;&nbsp;TRANSMITTED(GigabitEthernet3/0)<br><strong>3</strong>. node: as2dist2<br>&nbsp;&nbsp;RECEIVED(GigabitEthernet1/0)<br>&nbsp;&nbsp;FORWARDED(Routes: bgp [Network: 2.128.0.0/24, Next Hop IP:2.34.201.4])<br>&nbsp;&nbsp;TRANSMITTED(GigabitEthernet2/0)<br><strong>4</strong>. node: as2dept1<br>&nbsp;&nbsp;RECEIVED(GigabitEthernet1/0)<br>&nbsp;&nbsp;FORWARDED(Routes: connected [Network: 2.128.0.0/24, Next Hop IP:AUTO/NONE(-1l)])<br>&nbsp;&nbsp;TRANSMITTED(GigabitEthernet2/0)<br><strong>5</strong>. node: host1<br>&nbsp;&nbsp;RECEIVED(eth0: filter::INPUT)<br>&nbsp;&nbsp;ACCEPTED(InboundStep)</td> \n",
       "        <td id=\"T_pybfstylerow3_col4\" class=\"data row3 col4\" >1</td> \n",
       "    </tr>    <tr> \n",
       "        <th id=\"T_pybfstylelevel0_row4\" class=\"row_heading level0 row4\" >4</th> \n",
       "        <td id=\"T_pybfstylerow4_col0\" class=\"data row4 col0\" >Src IP: 2.12.22.0<br>Src Port: 0<br>Dst IP: 2.128.0.101<br>Dst Port: 22<br>IP Protocol: TCP<br>Start Location: as2border2 interface=GigabitEthernet1/0</td> \n",
       "        <td id=\"T_pybfstylerow4_col1\" class=\"data row4 col1\" ><span style=\"color:#7c020e; text-weight:bold;\">NULL_ROUTED</span><br><strong>1</strong>. node: as2border2<br>&nbsp;&nbsp;RECEIVED(GigabitEthernet1/0)<br>&nbsp;&nbsp;FORWARDED(Routes: ibgp [Network: 2.128.0.0/24, Next Hop IP:2.34.201.4])<br>&nbsp;&nbsp;TRANSMITTED(GigabitEthernet1/0)<br><strong>2</strong>. node: as2core2<br>&nbsp;&nbsp;RECEIVED(GigabitEthernet0/0)<br>&nbsp;&nbsp;FORWARDED(Routes: static [Network: 2.128.0.0/24, Next Hop IP:AUTO/NONE(-1l)])<br>&nbsp;&nbsp;NULL_ROUTED(null_interface)</td> \n",
       "        <td id=\"T_pybfstylerow4_col2\" class=\"data row4 col2\" >1</td> \n",
       "        <td id=\"T_pybfstylerow4_col3\" class=\"data row4 col3\" ><span style=\"color:#019612; text-weight:bold;\">ACCEPTED</span><br><strong>1</strong>. node: as2border2<br>&nbsp;&nbsp;RECEIVED(GigabitEthernet1/0)<br>&nbsp;&nbsp;FORWARDED(Routes: ibgp [Network: 2.128.0.0/24, Next Hop IP:2.34.201.4])<br>&nbsp;&nbsp;TRANSMITTED(GigabitEthernet2/0)<br><strong>2</strong>. node: as2core1<br>&nbsp;&nbsp;RECEIVED(GigabitEthernet1/0)<br>&nbsp;&nbsp;FORWARDED(Routes: ibgp [Network: 2.128.0.0/24, Next Hop IP:2.34.201.4])<br>&nbsp;&nbsp;TRANSMITTED(GigabitEthernet3/0)<br><strong>3</strong>. node: as2dist2<br>&nbsp;&nbsp;RECEIVED(GigabitEthernet1/0)<br>&nbsp;&nbsp;FORWARDED(Routes: bgp [Network: 2.128.0.0/24, Next Hop IP:2.34.201.4])<br>&nbsp;&nbsp;TRANSMITTED(GigabitEthernet2/0)<br><strong>4</strong>. node: as2dept1<br>&nbsp;&nbsp;RECEIVED(GigabitEthernet1/0)<br>&nbsp;&nbsp;FORWARDED(Routes: connected [Network: 2.128.0.0/24, Next Hop IP:AUTO/NONE(-1l)])<br>&nbsp;&nbsp;TRANSMITTED(GigabitEthernet2/0)<br><strong>5</strong>. node: host1<br>&nbsp;&nbsp;RECEIVED(eth0: filter::INPUT)<br>&nbsp;&nbsp;ACCEPTED(InboundStep)</td> \n",
       "        <td id=\"T_pybfstylerow4_col4\" class=\"data row4 col4\" >1</td> \n",
       "    </tr>    <tr> \n",
       "        <th id=\"T_pybfstylelevel0_row5\" class=\"row_heading level0 row5\" >5</th> \n",
       "        <td id=\"T_pybfstylerow5_col0\" class=\"data row5 col0\" >Src IP: 2.12.21.0<br>Src Port: 0<br>Dst IP: 2.128.0.101<br>Dst Port: 22<br>IP Protocol: TCP<br>Start Location: as2border2 interface=GigabitEthernet2/0</td> \n",
       "        <td id=\"T_pybfstylerow5_col1\" class=\"data row5 col1\" ><span style=\"color:#7c020e; text-weight:bold;\">NULL_ROUTED</span><br><strong>1</strong>. node: as2border2<br>&nbsp;&nbsp;RECEIVED(GigabitEthernet2/0)<br>&nbsp;&nbsp;FORWARDED(Routes: ibgp [Network: 2.128.0.0/24, Next Hop IP:2.34.201.4])<br>&nbsp;&nbsp;TRANSMITTED(GigabitEthernet1/0)<br><strong>2</strong>. node: as2core2<br>&nbsp;&nbsp;RECEIVED(GigabitEthernet0/0)<br>&nbsp;&nbsp;FORWARDED(Routes: static [Network: 2.128.0.0/24, Next Hop IP:AUTO/NONE(-1l)])<br>&nbsp;&nbsp;NULL_ROUTED(null_interface)</td> \n",
       "        <td id=\"T_pybfstylerow5_col2\" class=\"data row5 col2\" >1</td> \n",
       "        <td id=\"T_pybfstylerow5_col3\" class=\"data row5 col3\" ><span style=\"color:#019612; text-weight:bold;\">ACCEPTED</span><br><strong>1</strong>. node: as2border2<br>&nbsp;&nbsp;RECEIVED(GigabitEthernet2/0)<br>&nbsp;&nbsp;FORWARDED(Routes: ibgp [Network: 2.128.0.0/24, Next Hop IP:2.34.201.4])<br>&nbsp;&nbsp;TRANSMITTED(GigabitEthernet2/0)<br><strong>2</strong>. node: as2core1<br>&nbsp;&nbsp;RECEIVED(GigabitEthernet1/0)<br>&nbsp;&nbsp;FORWARDED(Routes: ibgp [Network: 2.128.0.0/24, Next Hop IP:2.34.201.4])<br>&nbsp;&nbsp;TRANSMITTED(GigabitEthernet3/0)<br><strong>3</strong>. node: as2dist2<br>&nbsp;&nbsp;RECEIVED(GigabitEthernet1/0)<br>&nbsp;&nbsp;FORWARDED(Routes: bgp [Network: 2.128.0.0/24, Next Hop IP:2.34.201.4])<br>&nbsp;&nbsp;TRANSMITTED(GigabitEthernet2/0)<br><strong>4</strong>. node: as2dept1<br>&nbsp;&nbsp;RECEIVED(GigabitEthernet1/0)<br>&nbsp;&nbsp;FORWARDED(Routes: connected [Network: 2.128.0.0/24, Next Hop IP:AUTO/NONE(-1l)])<br>&nbsp;&nbsp;TRANSMITTED(GigabitEthernet2/0)<br><strong>5</strong>. node: host1<br>&nbsp;&nbsp;RECEIVED(eth0: filter::INPUT)<br>&nbsp;&nbsp;ACCEPTED(InboundStep)</td> \n",
       "        <td id=\"T_pybfstylerow5_col4\" class=\"data row5 col4\" >1</td> \n",
       "    </tr></tbody> \n",
       "</table> "
      ],
      "text/plain": [
       "                                                                               Flow  \\\n",
       "0  start=as2border1 interface=GigabitEthernet0/0 [10.12.11.0:0->2.128.0.101:22 TCP]   \n",
       "1  start=as2border1 interface=GigabitEthernet1/0 [2.12.11.0:0->2.128.0.101:22 TCP]    \n",
       "2  start=as2border1 interface=GigabitEthernet2/0 [2.12.12.0:0->2.128.0.101:22 TCP]    \n",
       "3  start=as2border2 interface=GigabitEthernet0/0 [10.23.21.0:0->2.128.0.101:22 TCP]   \n",
       "4  start=as2border2 interface=GigabitEthernet1/0 [2.12.22.0:0->2.128.0.101:22 TCP]    \n",
       "5  start=as2border2 interface=GigabitEthernet2/0 [2.12.21.0:0->2.128.0.101:22 TCP]    \n",
       "\n",
       "                                                                                                                                                                                                                                                                                                   Base_Traces  \\\n",
       "0  [((RECEIVED(GigabitEthernet0/0: OUTSIDE_TO_INSIDE), FORWARDED(Routes: ibgp [Network: 2.128.0.0/24, Next Hop IP:2.34.201.4]), TRANSMITTED(GigabitEthernet2/0)), (RECEIVED(GigabitEthernet1/0), FORWARDED(Routes: static [Network: 2.128.0.0/24, Next Hop IP:AUTO/NONE(-1l)]), NULL_ROUTED(null_interface)))]   \n",
       "1  [((RECEIVED(GigabitEthernet1/0), FORWARDED(Routes: ibgp [Network: 2.128.0.0/24, Next Hop IP:2.34.201.4]), TRANSMITTED(GigabitEthernet2/0)), (RECEIVED(GigabitEthernet1/0), FORWARDED(Routes: static [Network: 2.128.0.0/24, Next Hop IP:AUTO/NONE(-1l)]), NULL_ROUTED(null_interface)))]                      \n",
       "2  [((RECEIVED(GigabitEthernet2/0), FORWARDED(Routes: ibgp [Network: 2.128.0.0/24, Next Hop IP:2.34.201.4]), TRANSMITTED(GigabitEthernet2/0)), (RECEIVED(GigabitEthernet1/0), FORWARDED(Routes: static [Network: 2.128.0.0/24, Next Hop IP:AUTO/NONE(-1l)]), NULL_ROUTED(null_interface)))]                      \n",
       "3  [((RECEIVED(GigabitEthernet0/0: OUTSIDE_TO_INSIDE), FORWARDED(Routes: ibgp [Network: 2.128.0.0/24, Next Hop IP:2.34.201.4]), TRANSMITTED(GigabitEthernet1/0)), (RECEIVED(GigabitEthernet0/0), FORWARDED(Routes: static [Network: 2.128.0.0/24, Next Hop IP:AUTO/NONE(-1l)]), NULL_ROUTED(null_interface)))]   \n",
       "4  [((RECEIVED(GigabitEthernet1/0), FORWARDED(Routes: ibgp [Network: 2.128.0.0/24, Next Hop IP:2.34.201.4]), TRANSMITTED(GigabitEthernet1/0)), (RECEIVED(GigabitEthernet0/0), FORWARDED(Routes: static [Network: 2.128.0.0/24, Next Hop IP:AUTO/NONE(-1l)]), NULL_ROUTED(null_interface)))]                      \n",
       "5  [((RECEIVED(GigabitEthernet2/0), FORWARDED(Routes: ibgp [Network: 2.128.0.0/24, Next Hop IP:2.34.201.4]), TRANSMITTED(GigabitEthernet1/0)), (RECEIVED(GigabitEthernet0/0), FORWARDED(Routes: static [Network: 2.128.0.0/24, Next Hop IP:AUTO/NONE(-1l)]), NULL_ROUTED(null_interface)))]                      \n",
       "\n",
       "   Base_TraceCount  \\\n",
       "0  1                 \n",
       "1  1                 \n",
       "2  1                 \n",
       "3  1                 \n",
       "4  1                 \n",
       "5  1                 \n",
       "\n",
       "                                                                                                                                                                                                                                                                                                                                                                                                                                                                                                                                                                                                                                                    Delta_Traces  \\\n",
       "0  [((RECEIVED(GigabitEthernet0/0: OUTSIDE_TO_INSIDE), FORWARDED(Routes: ibgp [Network: 2.128.0.0/24, Next Hop IP:2.34.201.4]), TRANSMITTED(GigabitEthernet1/0)), (RECEIVED(GigabitEthernet0/0), FORWARDED(Routes: ibgp [Network: 2.128.0.0/24, Next Hop IP:2.34.201.4]), TRANSMITTED(GigabitEthernet3/0)), (RECEIVED(GigabitEthernet1/0), FORWARDED(Routes: bgp [Network: 2.128.0.0/24, Next Hop IP:2.34.201.4]), TRANSMITTED(GigabitEthernet2/0)), (RECEIVED(GigabitEthernet1/0), FORWARDED(Routes: connected [Network: 2.128.0.0/24, Next Hop IP:AUTO/NONE(-1l)]), TRANSMITTED(GigabitEthernet2/0)), (RECEIVED(eth0: filter::INPUT), ACCEPTED(InboundStep)))]   \n",
       "1  [((RECEIVED(GigabitEthernet1/0), FORWARDED(Routes: ibgp [Network: 2.128.0.0/24, Next Hop IP:2.34.201.4]), TRANSMITTED(GigabitEthernet1/0)), (RECEIVED(GigabitEthernet0/0), FORWARDED(Routes: ibgp [Network: 2.128.0.0/24, Next Hop IP:2.34.201.4]), TRANSMITTED(GigabitEthernet3/0)), (RECEIVED(GigabitEthernet1/0), FORWARDED(Routes: bgp [Network: 2.128.0.0/24, Next Hop IP:2.34.201.4]), TRANSMITTED(GigabitEthernet2/0)), (RECEIVED(GigabitEthernet1/0), FORWARDED(Routes: connected [Network: 2.128.0.0/24, Next Hop IP:AUTO/NONE(-1l)]), TRANSMITTED(GigabitEthernet2/0)), (RECEIVED(eth0: filter::INPUT), ACCEPTED(InboundStep)))]                      \n",
       "2  [((RECEIVED(GigabitEthernet2/0), FORWARDED(Routes: ibgp [Network: 2.128.0.0/24, Next Hop IP:2.34.201.4]), TRANSMITTED(GigabitEthernet1/0)), (RECEIVED(GigabitEthernet0/0), FORWARDED(Routes: ibgp [Network: 2.128.0.0/24, Next Hop IP:2.34.201.4]), TRANSMITTED(GigabitEthernet3/0)), (RECEIVED(GigabitEthernet1/0), FORWARDED(Routes: bgp [Network: 2.128.0.0/24, Next Hop IP:2.34.201.4]), TRANSMITTED(GigabitEthernet2/0)), (RECEIVED(GigabitEthernet1/0), FORWARDED(Routes: connected [Network: 2.128.0.0/24, Next Hop IP:AUTO/NONE(-1l)]), TRANSMITTED(GigabitEthernet2/0)), (RECEIVED(eth0: filter::INPUT), ACCEPTED(InboundStep)))]                      \n",
       "3  [((RECEIVED(GigabitEthernet0/0: OUTSIDE_TO_INSIDE), FORWARDED(Routes: ibgp [Network: 2.128.0.0/24, Next Hop IP:2.34.201.4]), TRANSMITTED(GigabitEthernet2/0)), (RECEIVED(GigabitEthernet1/0), FORWARDED(Routes: ibgp [Network: 2.128.0.0/24, Next Hop IP:2.34.201.4]), TRANSMITTED(GigabitEthernet3/0)), (RECEIVED(GigabitEthernet1/0), FORWARDED(Routes: bgp [Network: 2.128.0.0/24, Next Hop IP:2.34.201.4]), TRANSMITTED(GigabitEthernet2/0)), (RECEIVED(GigabitEthernet1/0), FORWARDED(Routes: connected [Network: 2.128.0.0/24, Next Hop IP:AUTO/NONE(-1l)]), TRANSMITTED(GigabitEthernet2/0)), (RECEIVED(eth0: filter::INPUT), ACCEPTED(InboundStep)))]   \n",
       "4  [((RECEIVED(GigabitEthernet1/0), FORWARDED(Routes: ibgp [Network: 2.128.0.0/24, Next Hop IP:2.34.201.4]), TRANSMITTED(GigabitEthernet2/0)), (RECEIVED(GigabitEthernet1/0), FORWARDED(Routes: ibgp [Network: 2.128.0.0/24, Next Hop IP:2.34.201.4]), TRANSMITTED(GigabitEthernet3/0)), (RECEIVED(GigabitEthernet1/0), FORWARDED(Routes: bgp [Network: 2.128.0.0/24, Next Hop IP:2.34.201.4]), TRANSMITTED(GigabitEthernet2/0)), (RECEIVED(GigabitEthernet1/0), FORWARDED(Routes: connected [Network: 2.128.0.0/24, Next Hop IP:AUTO/NONE(-1l)]), TRANSMITTED(GigabitEthernet2/0)), (RECEIVED(eth0: filter::INPUT), ACCEPTED(InboundStep)))]                      \n",
       "5  [((RECEIVED(GigabitEthernet2/0), FORWARDED(Routes: ibgp [Network: 2.128.0.0/24, Next Hop IP:2.34.201.4]), TRANSMITTED(GigabitEthernet2/0)), (RECEIVED(GigabitEthernet1/0), FORWARDED(Routes: ibgp [Network: 2.128.0.0/24, Next Hop IP:2.34.201.4]), TRANSMITTED(GigabitEthernet3/0)), (RECEIVED(GigabitEthernet1/0), FORWARDED(Routes: bgp [Network: 2.128.0.0/24, Next Hop IP:2.34.201.4]), TRANSMITTED(GigabitEthernet2/0)), (RECEIVED(GigabitEthernet1/0), FORWARDED(Routes: connected [Network: 2.128.0.0/24, Next Hop IP:AUTO/NONE(-1l)]), TRANSMITTED(GigabitEthernet2/0)), (RECEIVED(eth0: filter::INPUT), ACCEPTED(InboundStep)))]                      \n",
       "\n",
       "   Delta_TraceCount  \n",
       "0  1                 \n",
       "1  1                 \n",
       "2  1                 \n",
       "3  1                 \n",
       "4  1                 \n",
       "5  1                 "
      ]
     },
     "metadata": {},
     "output_type": "display_data"
    }
   ],
   "source": [
    "answer = bfq.differentialReachability(\n",
    "    pathConstraints=PathConstraints(startLocation=\"enter(as2border.*)\"),\n",
    "    headers=HeaderConstraints(dstIps=\"ofLocation(host.*)\")\n",
    ").answer(\n",
    "    snapshot=EX1_CHANGE_NAME, \n",
    "    reference_snapshot=EX1_BASE_NAME)\n",
    "display_html(answer.frame())"
   ]
  },
  {
   "cell_type": "code",
   "execution_count": 34,
   "metadata": {},
   "outputs": [
    {
     "data": {
      "text/html": [
       "<style  type=\"text/css\" >\n",
       "    #T_pybfstylerow0_col0 {\n",
       "            text-align:  left;\n",
       "            vertical-align:  top;\n",
       "        }    #T_pybfstylerow0_col1 {\n",
       "            text-align:  left;\n",
       "            vertical-align:  top;\n",
       "        }    #T_pybfstylerow0_col2 {\n",
       "            text-align:  left;\n",
       "            vertical-align:  top;\n",
       "        }    #T_pybfstylerow0_col3 {\n",
       "            text-align:  left;\n",
       "            vertical-align:  top;\n",
       "        }    #T_pybfstylerow0_col4 {\n",
       "            text-align:  left;\n",
       "            vertical-align:  top;\n",
       "        }    #T_pybfstylerow1_col0 {\n",
       "            text-align:  left;\n",
       "            vertical-align:  top;\n",
       "        }    #T_pybfstylerow1_col1 {\n",
       "            text-align:  left;\n",
       "            vertical-align:  top;\n",
       "        }    #T_pybfstylerow1_col2 {\n",
       "            text-align:  left;\n",
       "            vertical-align:  top;\n",
       "        }    #T_pybfstylerow1_col3 {\n",
       "            text-align:  left;\n",
       "            vertical-align:  top;\n",
       "        }    #T_pybfstylerow1_col4 {\n",
       "            text-align:  left;\n",
       "            vertical-align:  top;\n",
       "        }</style>  \n",
       "<table id=\"T_pybfstyle\" > \n",
       "<thead>    <tr> \n",
       "        <th class=\"blank level0\" ></th> \n",
       "        <th class=\"col_heading level0 col0\" >Flow</th> \n",
       "        <th class=\"col_heading level0 col1\" >Base_Traces</th> \n",
       "        <th class=\"col_heading level0 col2\" >Base_TraceCount</th> \n",
       "        <th class=\"col_heading level0 col3\" >Delta_Traces</th> \n",
       "        <th class=\"col_heading level0 col4\" >Delta_TraceCount</th> \n",
       "    </tr></thead> \n",
       "<tbody>    <tr> \n",
       "        <th id=\"T_pybfstylelevel0_row0\" class=\"row_heading level0 row0\" >0</th> \n",
       "        <td id=\"T_pybfstylerow0_col0\" class=\"data row0 col0\" >Src IP: 0.0.0.0<br>Src Port: 0<br>Dst IP: 2.128.0.1<br>Dst Port: 0<br>IP Protocol: HOPOPT<br>Start Location: as2border1</td> \n",
       "        <td id=\"T_pybfstylerow0_col1\" class=\"data row0 col1\" ><span style=\"color:#7c020e; text-weight:bold;\">NULL_ROUTED</span><br><strong>1</strong>. node: as2border1<br>&nbsp;&nbsp;ORIGINATED(default)<br>&nbsp;&nbsp;FORWARDED(Routes: ibgp [Network: 2.128.0.0/24, Next Hop IP:2.34.201.4])<br>&nbsp;&nbsp;TRANSMITTED(GigabitEthernet2/0)<br><strong>2</strong>. node: as2core2<br>&nbsp;&nbsp;RECEIVED(GigabitEthernet1/0)<br>&nbsp;&nbsp;FORWARDED(Routes: static [Network: 2.128.0.0/24, Next Hop IP:AUTO/NONE(-1l)])<br>&nbsp;&nbsp;NULL_ROUTED(null_interface)</td> \n",
       "        <td id=\"T_pybfstylerow0_col2\" class=\"data row0 col2\" >1</td> \n",
       "        <td id=\"T_pybfstylerow0_col3\" class=\"data row0 col3\" ><span style=\"color:#019612; text-weight:bold;\">ACCEPTED</span><br><strong>1</strong>. node: as2border1<br>&nbsp;&nbsp;ORIGINATED(default)<br>&nbsp;&nbsp;FORWARDED(Routes: ibgp [Network: 2.128.0.0/24, Next Hop IP:2.34.201.4])<br>&nbsp;&nbsp;TRANSMITTED(GigabitEthernet1/0)<br><strong>2</strong>. node: as2core1<br>&nbsp;&nbsp;RECEIVED(GigabitEthernet0/0)<br>&nbsp;&nbsp;FORWARDED(Routes: ibgp [Network: 2.128.0.0/24, Next Hop IP:2.34.201.4])<br>&nbsp;&nbsp;TRANSMITTED(GigabitEthernet3/0)<br><strong>3</strong>. node: as2dist2<br>&nbsp;&nbsp;RECEIVED(GigabitEthernet1/0)<br>&nbsp;&nbsp;FORWARDED(Routes: bgp [Network: 2.128.0.0/24, Next Hop IP:2.34.201.4])<br>&nbsp;&nbsp;TRANSMITTED(GigabitEthernet2/0)<br><strong>4</strong>. node: as2dept1<br>&nbsp;&nbsp;RECEIVED(GigabitEthernet1/0)<br>&nbsp;&nbsp;ACCEPTED(InboundStep)</td> \n",
       "        <td id=\"T_pybfstylerow0_col4\" class=\"data row0 col4\" >1</td> \n",
       "    </tr>    <tr> \n",
       "        <th id=\"T_pybfstylelevel0_row1\" class=\"row_heading level0 row1\" >1</th> \n",
       "        <td id=\"T_pybfstylerow1_col0\" class=\"data row1 col0\" >Src IP: 0.0.0.0<br>Src Port: 0<br>Dst IP: 2.128.0.1<br>Dst Port: 0<br>IP Protocol: HOPOPT<br>Start Location: as2border2</td> \n",
       "        <td id=\"T_pybfstylerow1_col1\" class=\"data row1 col1\" ><span style=\"color:#7c020e; text-weight:bold;\">NULL_ROUTED</span><br><strong>1</strong>. node: as2border2<br>&nbsp;&nbsp;ORIGINATED(default)<br>&nbsp;&nbsp;FORWARDED(Routes: ibgp [Network: 2.128.0.0/24, Next Hop IP:2.34.201.4])<br>&nbsp;&nbsp;TRANSMITTED(GigabitEthernet1/0)<br><strong>2</strong>. node: as2core2<br>&nbsp;&nbsp;RECEIVED(GigabitEthernet0/0)<br>&nbsp;&nbsp;FORWARDED(Routes: static [Network: 2.128.0.0/24, Next Hop IP:AUTO/NONE(-1l)])<br>&nbsp;&nbsp;NULL_ROUTED(null_interface)</td> \n",
       "        <td id=\"T_pybfstylerow1_col2\" class=\"data row1 col2\" >1</td> \n",
       "        <td id=\"T_pybfstylerow1_col3\" class=\"data row1 col3\" ><span style=\"color:#019612; text-weight:bold;\">ACCEPTED</span><br><strong>1</strong>. node: as2border2<br>&nbsp;&nbsp;ORIGINATED(default)<br>&nbsp;&nbsp;FORWARDED(Routes: ibgp [Network: 2.128.0.0/24, Next Hop IP:2.34.201.4])<br>&nbsp;&nbsp;TRANSMITTED(GigabitEthernet2/0)<br><strong>2</strong>. node: as2core1<br>&nbsp;&nbsp;RECEIVED(GigabitEthernet1/0)<br>&nbsp;&nbsp;FORWARDED(Routes: ibgp [Network: 2.128.0.0/24, Next Hop IP:2.34.201.4])<br>&nbsp;&nbsp;TRANSMITTED(GigabitEthernet3/0)<br><strong>3</strong>. node: as2dist2<br>&nbsp;&nbsp;RECEIVED(GigabitEthernet1/0)<br>&nbsp;&nbsp;FORWARDED(Routes: bgp [Network: 2.128.0.0/24, Next Hop IP:2.34.201.4])<br>&nbsp;&nbsp;TRANSMITTED(GigabitEthernet2/0)<br><strong>4</strong>. node: as2dept1<br>&nbsp;&nbsp;RECEIVED(GigabitEthernet1/0)<br>&nbsp;&nbsp;ACCEPTED(InboundStep)</td> \n",
       "        <td id=\"T_pybfstylerow1_col4\" class=\"data row1 col4\" >1</td> \n",
       "    </tr></tbody> \n",
       "</table> "
      ],
      "text/plain": [
       "                                               Flow  \\\n",
       "0  start=as2border1 [0.0.0.0:0->2.128.0.1:0 HOPOPT]   \n",
       "1  start=as2border2 [0.0.0.0:0->2.128.0.1:0 HOPOPT]   \n",
       "\n",
       "                                                                                                                                                                                                                                                                       Base_Traces  \\\n",
       "0  [((ORIGINATED(default), FORWARDED(Routes: ibgp [Network: 2.128.0.0/24, Next Hop IP:2.34.201.4]), TRANSMITTED(GigabitEthernet2/0)), (RECEIVED(GigabitEthernet1/0), FORWARDED(Routes: static [Network: 2.128.0.0/24, Next Hop IP:AUTO/NONE(-1l)]), NULL_ROUTED(null_interface)))]   \n",
       "1  [((ORIGINATED(default), FORWARDED(Routes: ibgp [Network: 2.128.0.0/24, Next Hop IP:2.34.201.4]), TRANSMITTED(GigabitEthernet1/0)), (RECEIVED(GigabitEthernet0/0), FORWARDED(Routes: static [Network: 2.128.0.0/24, Next Hop IP:AUTO/NONE(-1l)]), NULL_ROUTED(null_interface)))]   \n",
       "\n",
       "   Base_TraceCount  \\\n",
       "0  1                 \n",
       "1  1                 \n",
       "\n",
       "                                                                                                                                                                                                                                                                                                                                                                                                                                                                    Delta_Traces  \\\n",
       "0  [((ORIGINATED(default), FORWARDED(Routes: ibgp [Network: 2.128.0.0/24, Next Hop IP:2.34.201.4]), TRANSMITTED(GigabitEthernet1/0)), (RECEIVED(GigabitEthernet0/0), FORWARDED(Routes: ibgp [Network: 2.128.0.0/24, Next Hop IP:2.34.201.4]), TRANSMITTED(GigabitEthernet3/0)), (RECEIVED(GigabitEthernet1/0), FORWARDED(Routes: bgp [Network: 2.128.0.0/24, Next Hop IP:2.34.201.4]), TRANSMITTED(GigabitEthernet2/0)), (RECEIVED(GigabitEthernet1/0), ACCEPTED(InboundStep)))]   \n",
       "1  [((ORIGINATED(default), FORWARDED(Routes: ibgp [Network: 2.128.0.0/24, Next Hop IP:2.34.201.4]), TRANSMITTED(GigabitEthernet2/0)), (RECEIVED(GigabitEthernet1/0), FORWARDED(Routes: ibgp [Network: 2.128.0.0/24, Next Hop IP:2.34.201.4]), TRANSMITTED(GigabitEthernet3/0)), (RECEIVED(GigabitEthernet1/0), FORWARDED(Routes: bgp [Network: 2.128.0.0/24, Next Hop IP:2.34.201.4]), TRANSMITTED(GigabitEthernet2/0)), (RECEIVED(GigabitEthernet1/0), ACCEPTED(InboundStep)))]   \n",
       "\n",
       "   Delta_TraceCount  \n",
       "0  1                 \n",
       "1  1                 "
      ]
     },
     "metadata": {},
     "output_type": "display_data"
    }
   ],
   "source": [
    "answer = bfq.differentialReachability(\n",
    "    pathConstraints=PathConstraints(startLocation=\".* - as2core.*\"),\n",
    "    headers=HeaderConstraints(dstIps=\"ofLocation(.* - as2core.*)\", srcIps=\"0.0.0.0/0\")\n",
    ").answer(\n",
    "    snapshot=EX1_CHANGE_NAME, \n",
    "    reference_snapshot=EX1_BASE_NAME)\n",
    "display_html(answer.frame())"
   ]
  },
  {
   "cell_type": "markdown",
   "metadata": {},
   "source": [
    "Unfortunately we did find some changes in end-to-end behavior, indicating that there has been some drift between `as2core1` and `as2core2` over time. There are two flows traffic that are delivered before costing out `as2core1` but fails after, demonstrating a loss of availability.\n",
    "\n",
    "The results include detailed traces of the flows through the network, which helps us diagnose the problem: **TODO**\n",
    "- Currently we have a null route.\n",
    "- Could instead have an ACL.\n",
    "\n",
    "We fix this bug in a new version of the changed snapshot, and then upload the fixed change snapshot and repeat the validation steps: "
   ]
  },
  {
   "cell_type": "code",
   "execution_count": 35,
   "metadata": {},
   "outputs": [
    {
     "data": {
      "text/plain": [
       "'change-fixed'"
      ]
     },
     "execution_count": 35,
     "metadata": {},
     "output_type": "execute_result"
    }
   ],
   "source": [
    "EX1_CHANGE_FIXED_NAME = \"change-fixed\"\n",
    "EX1_CHANGE_FIXED_PATH = \"networks/differential-ex1-change-fixed\"\n",
    "\n",
    "bf_init_snapshot(EX1_CHANGE_FIXED_PATH, name=EX1_CHANGE_FIXED_NAME, overwrite=True)"
   ]
  },
  {
   "cell_type": "code",
   "execution_count": 42,
   "metadata": {},
   "outputs": [
    {
     "data": {
      "text/html": [
       "<div>\n",
       "<style scoped>\n",
       "    .dataframe tbody tr th:only-of-type {\n",
       "        vertical-align: middle;\n",
       "    }\n",
       "\n",
       "    .dataframe tbody tr th {\n",
       "        vertical-align: top;\n",
       "    }\n",
       "\n",
       "    .dataframe thead th {\n",
       "        text-align: right;\n",
       "    }\n",
       "</style>\n",
       "<table border=\"1\" class=\"dataframe\">\n",
       "  <thead>\n",
       "    <tr style=\"text-align: right;\">\n",
       "      <th></th>\n",
       "      <th>Flow</th>\n",
       "      <th>Traces</th>\n",
       "      <th>TraceCount</th>\n",
       "    </tr>\n",
       "  </thead>\n",
       "  <tbody>\n",
       "  </tbody>\n",
       "</table>\n",
       "</div>"
      ],
      "text/plain": [
       "Empty DataFrame\n",
       "Columns: [Flow, Traces, TraceCount]\n",
       "Index: []"
      ]
     },
     "metadata": {},
     "output_type": "display_data"
    },
    {
     "data": {
      "text/html": [
       "<div>\n",
       "<style scoped>\n",
       "    .dataframe tbody tr th:only-of-type {\n",
       "        vertical-align: middle;\n",
       "    }\n",
       "\n",
       "    .dataframe tbody tr th {\n",
       "        vertical-align: top;\n",
       "    }\n",
       "\n",
       "    .dataframe thead th {\n",
       "        text-align: right;\n",
       "    }\n",
       "</style>\n",
       "<table border=\"1\" class=\"dataframe\">\n",
       "  <thead>\n",
       "    <tr style=\"text-align: right;\">\n",
       "      <th></th>\n",
       "      <th>Flow</th>\n",
       "      <th>Traces</th>\n",
       "      <th>TraceCount</th>\n",
       "    </tr>\n",
       "  </thead>\n",
       "  <tbody>\n",
       "  </tbody>\n",
       "</table>\n",
       "</div>"
      ],
      "text/plain": [
       "Empty DataFrame\n",
       "Columns: [Flow, Traces, TraceCount]\n",
       "Index: []"
      ]
     },
     "metadata": {},
     "output_type": "display_data"
    }
   ],
   "source": [
    "# Requirement 1: No traffic is routed through as2core1.\n",
    "answer = bfq.reachability(\n",
    "    pathConstraints = PathConstraints(startLocation=\"enter(as2border.*)\", transitLocations=\"as2core1\"),\n",
    "    headers = HeaderConstraints(dstIps=\"ofLocation(host.*)\", srcIps=\"0.0.0.0/0\"),\n",
    "    actions = \"SUCCESS,FAILURE\"\n",
    ").answer(snapshot=EX1_CHANGE_FIXED_NAME)\n",
    "display_html(answer.frame())\n",
    "\n",
    "answer = bfq.reachability(\n",
    "    pathConstraints = PathConstraints(startLocation=\".* - as2core1\", transitLocations=\"as2core1\"),\n",
    "    headers = HeaderConstraints(srcIps = \"0.0.0.0/0\"),\n",
    "    actions = \"SUCCESS,FAILURE\"\n",
    ").answer(snapshot=EX1_CHANGE_FIXED_NAME)\n",
    "display_html(answer.frame())"
   ]
  },
  {
   "cell_type": "code",
   "execution_count": 44,
   "metadata": {},
   "outputs": [
    {
     "data": {
      "text/html": [
       "<div>\n",
       "<style scoped>\n",
       "    .dataframe tbody tr th:only-of-type {\n",
       "        vertical-align: middle;\n",
       "    }\n",
       "\n",
       "    .dataframe tbody tr th {\n",
       "        vertical-align: top;\n",
       "    }\n",
       "\n",
       "    .dataframe thead th {\n",
       "        text-align: right;\n",
       "    }\n",
       "</style>\n",
       "<table border=\"1\" class=\"dataframe\">\n",
       "  <thead>\n",
       "    <tr style=\"text-align: right;\">\n",
       "      <th></th>\n",
       "      <th>Flow</th>\n",
       "      <th>Base_Traces</th>\n",
       "      <th>Base_TraceCount</th>\n",
       "      <th>Delta_Traces</th>\n",
       "      <th>Delta_TraceCount</th>\n",
       "    </tr>\n",
       "  </thead>\n",
       "  <tbody>\n",
       "  </tbody>\n",
       "</table>\n",
       "</div>"
      ],
      "text/plain": [
       "Empty DataFrame\n",
       "Columns: [Flow, Base_Traces, Base_TraceCount, Delta_Traces, Delta_TraceCount]\n",
       "Index: []"
      ]
     },
     "metadata": {},
     "output_type": "display_data"
    },
    {
     "data": {
      "text/html": [
       "<div>\n",
       "<style scoped>\n",
       "    .dataframe tbody tr th:only-of-type {\n",
       "        vertical-align: middle;\n",
       "    }\n",
       "\n",
       "    .dataframe tbody tr th {\n",
       "        vertical-align: top;\n",
       "    }\n",
       "\n",
       "    .dataframe thead th {\n",
       "        text-align: right;\n",
       "    }\n",
       "</style>\n",
       "<table border=\"1\" class=\"dataframe\">\n",
       "  <thead>\n",
       "    <tr style=\"text-align: right;\">\n",
       "      <th></th>\n",
       "      <th>Flow</th>\n",
       "      <th>Base_Traces</th>\n",
       "      <th>Base_TraceCount</th>\n",
       "      <th>Delta_Traces</th>\n",
       "      <th>Delta_TraceCount</th>\n",
       "    </tr>\n",
       "  </thead>\n",
       "  <tbody>\n",
       "  </tbody>\n",
       "</table>\n",
       "</div>"
      ],
      "text/plain": [
       "Empty DataFrame\n",
       "Columns: [Flow, Base_Traces, Base_TraceCount, Delta_Traces, Delta_TraceCount]\n",
       "Index: []"
      ]
     },
     "metadata": {},
     "output_type": "display_data"
    }
   ],
   "source": [
    "# Requirement 2: End-to-end network behavior is unchanged.\n",
    "answer = bfq.differentialReachability(\n",
    "    pathConstraints=PathConstraints(startLocation=\"enter(as2border.*)\"),\n",
    "    headers=HeaderConstraints(dstIps=\"ofLocation(host.*)\", srcIps = \"0.0.0.0/0\"),\n",
    ").answer(\n",
    "    snapshot=EX1_CHANGE_FIXED_NAME, \n",
    "    reference_snapshot=EX1_BASE_NAME)\n",
    "display_html(answer.frame())\n",
    "\n",
    "answer = bfq.differentialReachability(\n",
    "    pathConstraints=PathConstraints(startLocation=\".* - as2core.*\"),\n",
    "    headers=HeaderConstraints(dstIps=\"ofLocation(.* - as2core.*)\"),\n",
    ").answer(\n",
    "    snapshot=EX1_CHANGE_FIXED_NAME, \n",
    "    reference_snapshot=EX1_BASE_NAME)\n",
    "display_html(answer.frame())"
   ]
  },
  {
   "cell_type": "markdown",
   "metadata": {},
   "source": [
    "Success! We have now verified that our change will correctly cost-out `as2core1` without affecting end-to-end network behavior. We are ready to deploy the change and do the maintenance work for `as2core1` with complete confidence. \n",
    "\n",
    "Let's recap the steps we took to verify this change:\n",
    "1. First, we verified that the primary intent of the change is achieved: traffic is moved from `as2core1` to `as2core2`. We did this in two steps:\n",
    "  1. Before the change, we checked that *some traffic* is routed through `as2core1` and *no traffic* is routed through `as2core2`.\n",
    "  1. After the change, we checked that *no traffic* is routed through `as2core1` and *some traffic* is routed through `as2core2`.\n",
    "1. Second, we "
   ]
  },
  {
   "cell_type": "markdown",
   "metadata": {},
   "source": [
    "## Example 2"
   ]
  },
  {
   "cell_type": "markdown",
   "metadata": {},
   "source": [
    "Describe the network and the desired change: deny SSH from outside the AS.\n",
    "\n",
    "\n",
    "## Step 1: Test current behavior"
   ]
  },
  {
   "cell_type": "code",
   "execution_count": null,
   "metadata": {},
   "outputs": [],
   "source": [
    "EX2_NETWORK_NAME = \"differential-example2\"\n",
    "EX2_BASE_NAME = \"base\"\n",
    "EX2_BASE_PATH = \"networks/differential-ex2-base\"\n",
    "\n",
    "bf_set_network(EX2_NETWORK_NAME)\n",
    "bf_init_snapshot(EX2_BASE_PATH, name=EX2_BASE_NAME, overwrite=True)"
   ]
  },
  {
   "cell_type": "code",
   "execution_count": null,
   "metadata": {},
   "outputs": [],
   "source": [
    "answer = bfq.reachability(\n",
    "    pathConstraints = PathConstraints(startLocation=\"enter(as2border.*[GigabitEthernet0/0])\", endLocation=\"host.*\"),\n",
    "    headers = HeaderConstraints(applications=\"SSH\")\n",
    ").answer(snapshot=EX2_BASE_NAME)\n",
    "display_html(answer.frame())"
   ]
  },
  {
   "cell_type": "markdown",
   "metadata": {},
   "source": [
    "These results show that SSH traffic can indeed currently reach the hosts from outside the AS."
   ]
  },
  {
   "cell_type": "markdown",
   "metadata": {},
   "source": [
    "## Step 2: Author the change\n",
    "\n",
    "\n",
    "```\n",
    "$ diff -r networks/differential-ex2-base networks/differential-ex2-change\n",
    "diff -r networks/differential-ex2-base/configs/as2border1.cfg networks/differential-ex2-change/configs/as2border1.cfg\n",
    "123a124\n",
    ">  deny   tcp any 2.0.0.0 0.255.255.255 eq 22\n",
    "```"
   ]
  },
  {
   "cell_type": "code",
   "execution_count": null,
   "metadata": {},
   "outputs": [],
   "source": [
    "EX2_CHANGE_NAME = \"change\"\n",
    "EX2_CHANGE_PATH = \"networks/differential-ex2-change\"\n",
    "\n",
    "bf_init_snapshot(EX2_CHANGE_PATH, name=EX2_CHANGE_NAME, overwrite=True)"
   ]
  },
  {
   "cell_type": "code",
   "execution_count": null,
   "metadata": {},
   "outputs": [],
   "source": [
    "answer = bfq.reachability(\n",
    "    pathConstraints = PathConstraints(\n",
    "        startLocation=\"enter(as2border.*[GigabitEthernet0/0])\", \n",
    "        endLocation=\"host.*\"),\n",
    "    headers = HeaderConstraints(applications=\"SSH\")\n",
    ").answer(snapshot=EX2_CHANGE_NAME)\n",
    "display_html(answer.frame())"
   ]
  },
  {
   "cell_type": "code",
   "execution_count": null,
   "metadata": {},
   "outputs": [],
   "source": []
  }
 ],
 "metadata": {
  "kernelspec": {
   "display_name": "Python 3",
   "language": "python",
   "name": "python3"
  },
  "language_info": {
   "codemirror_mode": {
    "name": "ipython",
    "version": 3
   },
   "file_extension": ".py",
   "mimetype": "text/x-python",
   "name": "python",
   "nbconvert_exporter": "python",
   "pygments_lexer": "ipython3",
   "version": "3.6.4"
  }
 },
 "nbformat": 4,
 "nbformat_minor": 2
}
